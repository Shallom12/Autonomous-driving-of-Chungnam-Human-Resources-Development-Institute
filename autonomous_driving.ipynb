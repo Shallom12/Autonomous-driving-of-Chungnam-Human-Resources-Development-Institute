{
  "nbformat": 4,
  "nbformat_minor": 0,
  "metadata": {
    "colab": {
      "provenance": [],
      "gpuType": "V28",
      "authorship_tag": "ABX9TyOwyJ0zBSTaxo0fpwK0tiDS",
      "include_colab_link": true
    },
    "kernelspec": {
      "name": "python3",
      "display_name": "Python 3"
    },
    "language_info": {
      "name": "python"
    },
    "accelerator": "TPU"
  },
  "cells": [
    {
      "cell_type": "markdown",
      "metadata": {
        "id": "view-in-github",
        "colab_type": "text"
      },
      "source": [
        "<a href=\"https://colab.research.google.com/github/Shallom12/Autonomous-driving-of-Chungnam-Human-Resources-Development-Institute/blob/main/autonomous_driving.ipynb\" target=\"_parent\"><img src=\"https://colab.research.google.com/assets/colab-badge.svg\" alt=\"Open In Colab\"/></a>"
      ]
    },
    {
      "cell_type": "code",
      "source": [
        "#this is a commet\n",
        "print('hello world')"
      ],
      "metadata": {
        "colab": {
          "base_uri": "https://localhost:8080/"
        },
        "id": "VPPkCKaBfDU-",
        "outputId": "2edeaf16-7a25-4aed-a75b-c67140aa8235"
      },
      "execution_count": null,
      "outputs": [
        {
          "output_type": "stream",
          "name": "stdout",
          "text": [
            "hello world\n"
          ]
        }
      ]
    },
    {
      "cell_type": "code",
      "source": [
        "x = 12\n",
        "y = 'jeongjueun'\n",
        "print(x)\n",
        "print(y)\n",
        "print(str(x)+y)"
      ],
      "metadata": {
        "id": "Md2PUa0CfWRi",
        "colab": {
          "base_uri": "https://localhost:8080/"
        },
        "outputId": "d090e4ba-cb28-41e2-f369-27efef979295"
      },
      "execution_count": null,
      "outputs": [
        {
          "output_type": "stream",
          "name": "stdout",
          "text": [
            "12\n",
            "jeongjueun\n",
            "12jeongjueun\n"
          ]
        }
      ]
    },
    {
      "cell_type": "code",
      "source": [
        "if 5 > 2:\n",
        "  print('Five is greater than two')\n",
        "x = 4\n",
        "x = 'Daniel'\n",
        "print(x)"
      ],
      "metadata": {
        "colab": {
          "base_uri": "https://localhost:8080/"
        },
        "id": "QaS30i1NhcGB",
        "outputId": "981d2fe6-6c49-411f-d7c2-79c81ee89b69"
      },
      "execution_count": null,
      "outputs": [
        {
          "output_type": "stream",
          "name": "stdout",
          "text": [
            "Five is greater than two\n",
            "Daniel\n"
          ]
        }
      ]
    },
    {
      "cell_type": "code",
      "source": [
        "x = str(3)\n",
        "y = int(5)\n",
        "z = float(7)\n",
        "print(type(x))\n",
        "print(type(y))\n",
        "my_var_name = 'John'"
      ],
      "metadata": {
        "colab": {
          "base_uri": "https://localhost:8080/"
        },
        "id": "5REQmb1Vikpo",
        "outputId": "ee0fba24-acbb-4969-931c-cf7767542177"
      },
      "execution_count": null,
      "outputs": [
        {
          "output_type": "stream",
          "name": "stdout",
          "text": [
            "<class 'str'>\n",
            "<class 'int'>\n"
          ]
        }
      ]
    },
    {
      "cell_type": "code",
      "source": [
        "x, y, z= 'Orange', 'Banana', 'Cherry'\n",
        "print(x)\n",
        "print(y)\n",
        "print(z)"
      ],
      "metadata": {
        "colab": {
          "base_uri": "https://localhost:8080/"
        },
        "id": "mPf_e58pjWgA",
        "outputId": "d65da049-f929-40eb-e87f-12685b5bdc18"
      },
      "execution_count": null,
      "outputs": [
        {
          "output_type": "stream",
          "name": "stdout",
          "text": [
            "Orange\n",
            "Banana\n",
            "Cherry\n"
          ]
        }
      ]
    },
    {
      "cell_type": "markdown",
      "source": [
        "#python variables"
      ],
      "metadata": {
        "id": "fUpLYgXio5u8"
      }
    },
    {
      "cell_type": "code",
      "source": [
        "x = y = z = 'Orange'\n",
        "print(x)\n",
        "print(y)\n",
        "print(x)"
      ],
      "metadata": {
        "colab": {
          "base_uri": "https://localhost:8080/"
        },
        "id": "edF1ZRienEbm",
        "outputId": "80e1a283-f368-4562-8a46-b7da4f04823b"
      },
      "execution_count": null,
      "outputs": [
        {
          "output_type": "stream",
          "name": "stdout",
          "text": [
            "Orange\n",
            "Orange\n",
            "Orange\n"
          ]
        }
      ]
    },
    {
      "cell_type": "code",
      "source": [
        "fruits = ['apple','banana', 'cherry']\n",
        "x, y, z = fruits\n",
        "print(x)\n",
        "print(y)\n",
        "print(z)"
      ],
      "metadata": {
        "colab": {
          "base_uri": "https://localhost:8080/"
        },
        "id": "5EPAHUZHn5nE",
        "outputId": "c4d6e8bc-2610-4c15-b420-2ac9e2ad9f58"
      },
      "execution_count": null,
      "outputs": [
        {
          "output_type": "stream",
          "name": "stdout",
          "text": [
            "apple\n",
            "banana\n",
            "cherry\n"
          ]
        }
      ]
    },
    {
      "cell_type": "code",
      "source": [
        "x = 'python'\n",
        "y = 'is'\n",
        "z = 'awesome'\n",
        "print(x,y,z)\n",
        "print(x+y+z)"
      ],
      "metadata": {
        "colab": {
          "base_uri": "https://localhost:8080/"
        },
        "id": "6N2zLEtcoJyP",
        "outputId": "682e931b-8c43-4998-97c9-226da46cdbb9"
      },
      "execution_count": null,
      "outputs": [
        {
          "output_type": "stream",
          "name": "stdout",
          "text": [
            "python is awesome\n",
            "pythonisawesome\n"
          ]
        }
      ]
    },
    {
      "cell_type": "code",
      "source": [
        "x = 5\n",
        "y = 15\n",
        "print(x+y)"
      ],
      "metadata": {
        "colab": {
          "base_uri": "https://localhost:8080/"
        },
        "id": "c0eIz8GJoUek",
        "outputId": "ee247849-a2f7-46ec-e792-0d3381a646c2"
      },
      "execution_count": null,
      "outputs": [
        {
          "output_type": "stream",
          "name": "stdout",
          "text": [
            "20\n"
          ]
        }
      ]
    },
    {
      "cell_type": "code",
      "source": [
        "x = 'awesome'\n",
        "def myfunc():\n",
        "  print('python is' + x)\n",
        "myfunc()\n",
        "print('python is' + x)"
      ],
      "metadata": {
        "colab": {
          "base_uri": "https://localhost:8080/"
        },
        "id": "ykcVI4J5ohIP",
        "outputId": "2dd7cfab-0058-456a-84f9-61819949c55d"
      },
      "execution_count": null,
      "outputs": [
        {
          "output_type": "stream",
          "name": "stdout",
          "text": [
            "python isawesome\n",
            "python isawesome\n"
          ]
        }
      ]
    },
    {
      "cell_type": "markdown",
      "source": [
        "### 1. 동영상 파일 불러오기 또는 웹캠 연결 (0번은 기본 카메라)\n",
        "### 2. 이미지를 그레이스케일로 변환 (색 정보 제거, 연산 빠르게 하기 위함)\n",
        "### 3. 가우시안 블러 적용 (노이즈 제거)\n",
        "### 4. Canny 엣지 검출 (경계선 찾기)\n",
        "### 5. 관심영역(ROI) 설정 - 삼각형 영역만 추출 (차선이 위치할 구간만 집중)\n",
        "### 6. 허프 변환으로 직선 검출\n",
        "### 7. 검출된 직선을 원본 이미지에 그리기\n",
        "### 8. 원본 프레임과 직선 이미지 합성\n",
        "### 9. 결과 출력\n",
        "### 10. q 키를 누르면 종료"
      ],
      "metadata": {
        "id": "l1ia1vYvrweZ"
      }
    },
    {
      "cell_type": "code",
      "source": [
        "import cv2\n",
        "import numpy as np\n",
        "\n",
        "# 1. 동영상 파일 불러오기 또는 웹캠 연결 (0번은 기본 카메라)\n",
        "cap = cv2.VideoCapture(\"lane_video.mp4\")  # 또는 cap = cv2.VideoCapture(0)\n",
        "\n",
        "while cap.isOpened():\n",
        "    ret, frame = cap.read()  # 한 프레임씩 읽어옴\n",
        "    if not ret:\n",
        "        break\n",
        "\n",
        "    # 2. 이미지를 그레이스케일로 변환 (색 정보 제거, 연산 빠르게 하기 위함)\n",
        "    gray = cv2.cvtColor(frame, cv2.COLOR_BGR2GRAY)\n",
        "\n",
        "    # 3. 가우시안 블러 적용 (노이즈 제거)\n",
        "    blur = cv2.GaussianBlur(gray, (5, 5), 0)\n",
        "\n",
        "    # 4. Canny 엣지 검출 (경계선 찾기)\n",
        "    edges = cv2.Canny(blur, 50, 150)\n",
        "\n",
        "    # 5. 관심영역(ROI) 설정 - 삼각형 영역만 추출 (차선이 위치할 구간만 집중)\n",
        "    height = frame.shape[0]\n",
        "    polygon = np.array([[\n",
        "        (0, height),\n",
        "        (frame.shape[1], height),\n",
        "        (frame.shape[1]//2, height//2)\n",
        "    ]])\n",
        "    mask = np.zeros_like(edges)\n",
        "    cv2.fillPoly(mask, polygon, 255)\n",
        "    cropped_edges = cv2.bitwise_and(edges, mask)\n",
        "\n",
        "    # 6. 허프 변환으로 직선 검출\n",
        "    lines = cv2.HoughLinesP(\n",
        "        cropped_edges,\n",
        "        rho=1,\n",
        "        theta=np.pi / 180,\n",
        "        threshold=50,\n",
        "        minLineLength=50,\n",
        "        maxLineGap=150\n",
        "    )\n",
        "\n",
        "    # 7. 검출된 직선을 원본 이미지에 그리기\n",
        "    line_image = np.zeros_like(frame)\n",
        "    if lines is not None:\n",
        "        for line in lines:\n",
        "            x1, y1, x2, y2 = line[0]\n",
        "            cv2.line(line_image, (x1, y1), (x2, y2), (0, 255, 0), 5)\n",
        "\n",
        "    # 8. 원본 프레임과 직선 이미지 합성\n",
        "    combined = cv2.addWeighted(frame, 0.8, line_image, 1, 1)\n",
        "\n",
        "    # 9. 결과 출력\n",
        "    cv2.imshow(\"Lane Detection\", combined)\n",
        "\n",
        "    # 10. q 키를 누르면 종료\n",
        "    if cv2.waitKey(1) & 0xFF == ord('q'):\n",
        "        break\n",
        "\n",
        "# 리소스 해제\n",
        "cap.release()\n",
        "cv2.destroyAllWindows()\n"
      ],
      "metadata": {
        "id": "I_JpQak-p2rh"
      },
      "execution_count": null,
      "outputs": []
    },
    {
      "cell_type": "markdown",
      "source": [
        "# 🎯 YOLOv5로 객체 탐지\n",
        "\n",
        "Ultralytics에서 제공하는 `yolov5` 라이브러리를 이용해, 샘플 이미지를 대상으로 실시간 객체 인식을 실행해봅니다.\n",
        "\n",
        "- **라이브러리**: yolov5 (PyTorch 기반)\n",
        "- **샘플 이미지**: Zidane 축구경기 사진\n"
      ],
      "metadata": {
        "id": "E0CWIIEvsZrK"
      }
    },
    {
      "cell_type": "code",
      "source": [
        "# 1️⃣ yolov5 설치\n",
        "!pip install yolov5 -q  # ultralytics 패키지가 함께 설치됩니다.\n",
        "\n",
        "# 2️⃣ 라이브러리 임포트 & 모델 로드\n",
        "from yolov5 import YOLOv5\n",
        "import cv2\n",
        "import matplotlib.pyplot as plt\n",
        "\n",
        "# Colab 런타임에 맞춰 device 선택 (cpu/gpu 자동)\n",
        "model = YOLOv5(\"yolov5s.pt\", device=\"\")  # 가볍고 빠른 yolov5s 버전\n",
        "\n",
        "# 3️⃣ 샘플 이미지 다운로드\n",
        "!wget -q https://ultralytics.com/images/zidane.jpg -O sample.jpg\n",
        "img = cv2.imread(\"sample.jpg\")[:, :, ::-1]  # BGR→RGB\n",
        "\n",
        "# 4️⃣ 추론 수행\n",
        "results = model.predict(img)\n",
        "\n",
        "# 5️⃣ 결과 시각화\n",
        "annotated = results.render()[0]  # Annotated image\n",
        "plt.figure(figsize=(8,5))\n",
        "plt.imshow(annotated)\n",
        "plt.axis(\"off\")\n"
      ],
      "metadata": {
        "colab": {
          "base_uri": "https://localhost:8080/"
        },
        "id": "mXTVSPjasaO8",
        "outputId": "c9cf0ae7-ee60-4c43-cfb2-f960b5f8e1ea"
      },
      "execution_count": null,
      "outputs": [
        {
          "output_type": "stream",
          "name": "stdout",
          "text": [
            "Creating new Ultralytics Settings v0.0.6 file ✅ \n",
            "View Ultralytics Settings with 'yolo settings' or at '/root/.config/Ultralytics/settings.json'\n",
            "Update Settings with 'yolo settings key=value', i.e. 'yolo settings runs_dir=path/to/dir'. For help see https://docs.ultralytics.com/quickstart/#ultralytics-settings.\n"
          ]
        },
        {
          "output_type": "stream",
          "name": "stderr",
          "text": [
            "/usr/local/lib/python3.11/dist-packages/yolov5/models/common.py:709: FutureWarning: `torch.cuda.amp.autocast(args...)` is deprecated. Please use `torch.amp.autocast('cuda', args...)` instead.\n",
            "  with amp.autocast(autocast):\n"
          ]
        },
        {
          "output_type": "execute_result",
          "data": {
            "text/plain": [
              "(np.float64(-0.5), np.float64(1279.5), np.float64(719.5), np.float64(-0.5))"
            ]
          },
          "metadata": {},
          "execution_count": 8
        }
      ]
    },
    {
      "cell_type": "code",
      "source": [],
      "metadata": {
        "id": "880uzd4Evil2"
      },
      "execution_count": null,
      "outputs": []
    }
  ]
}